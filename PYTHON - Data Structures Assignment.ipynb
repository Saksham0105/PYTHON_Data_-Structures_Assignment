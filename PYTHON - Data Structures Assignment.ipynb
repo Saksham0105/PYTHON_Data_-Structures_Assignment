{
 "cells": [
  {
   "cell_type": "markdown",
   "id": "acbb476d-3554-4f05-b558-4aacfe1fe4b9",
   "metadata": {},
   "source": [
    "Q1. How do you comment code in Python? What are the different types of comments ?"
   ]
  },
  {
   "cell_type": "markdown",
   "id": "2de416c8-6e46-4acb-8728-17c975bd91a2",
   "metadata": {},
   "source": [
    "Ans "
   ]
  },
  {
   "cell_type": "markdown",
   "id": "ad8f4ef2-dbc5-400a-8620-067060184664",
   "metadata": {},
   "source": [
    "There are two type of comments code in Python"
   ]
  },
  {
   "cell_type": "markdown",
   "id": "71ab56e7-0fe3-47ca-b07e-7b523b299176",
   "metadata": {},
   "source": [
    "* Single line Comments :-\n",
    "\n",
    "\n",
    "* Multi-line Comments :-"
   ]
  },
  {
   "cell_type": "markdown",
   "id": "a9b5fa5a-296b-4221-b151-f396a6905e0b",
   "metadata": {},
   "source": [
    "* Single-line comments :-\n",
    "\n",
    "These comments start with the hash (#) symbol and extend to the end of the line. Anything written after the # symbol on the same line is considered a comment."
   ]
  },
  {
   "cell_type": "markdown",
   "id": "957d0ce2-f1fa-4b9c-aee6-5712092837e0",
   "metadata": {},
   "source": [
    "Example of single-line comment :"
   ]
  },
  {
   "cell_type": "code",
   "execution_count": 1,
   "id": "bb31383d-3e8e-4319-9268-24b5958a70be",
   "metadata": {},
   "outputs": [
    {
     "name": "stdout",
     "output_type": "stream",
     "text": [
      "Hey, Saksham!\n"
     ]
    }
   ],
   "source": [
    "# This is a single-line comment in Python\n",
    "print(\"Hey, Saksham!\")  \n",
    "# This print statement will display \"Hello, World!\""
   ]
  },
  {
   "cell_type": "markdown",
   "id": "722df9f6-9ef1-41f6-9e00-91e3e1df50a9",
   "metadata": {},
   "source": [
    "* Multi-line Comments :-"
   ]
  },
  {
   "cell_type": "markdown",
   "id": "e94ca749-f4e9-40b2-aa60-9afde0d38e65",
   "metadata": {},
   "source": [
    "Python does not have a built-in syntax for multi-line comments like some other programming languages. However, you can achieve multi-line comments by using triple-quotes (''' or \"\"\") to create a multi-line string, which Python will ignore as long as it's not assigned to a variable.this multi-line comments are also known as block comment."
   ]
  },
  {
   "cell_type": "code",
   "execution_count": 2,
   "id": "1503d552-0532-495b-b09f-56a2a7104ccc",
   "metadata": {},
   "outputs": [
    {
     "name": "stdout",
     "output_type": "stream",
     "text": [
      "Hey, Saksham!\n"
     ]
    }
   ],
   "source": [
    "'''\n",
    "This is a multi-line comment in Python.\n",
    "You can write multiple lines here without affecting the code.\n",
    "'''\n",
    "print(\"Hey, Saksham!\")"
   ]
  },
  {
   "cell_type": "markdown",
   "id": "2f1b1f08-9a46-4f98-8b24-0698583850f9",
   "metadata": {},
   "source": [
    "                                                                OR"
   ]
  },
  {
   "cell_type": "code",
   "execution_count": 3,
   "id": "bdacad93-5aa4-4d57-b126-5a34bec84163",
   "metadata": {},
   "outputs": [
    {
     "name": "stdout",
     "output_type": "stream",
     "text": [
      "Hey, Saksham!\n"
     ]
    }
   ],
   "source": [
    "\"\"\"\n",
    "This is a multi-line comment in Python.\n",
    "You can write multiple lines here without affecting the code.\n",
    "\"\"\"\n",
    "print(\"Hey, Saksham!\")"
   ]
  },
  {
   "cell_type": "markdown",
   "id": "f2a0d44e-dc97-408a-becd-20077df9e121",
   "metadata": {},
   "source": [
    "Q2. What are variables in Python? How do you declare and assign values to variables ?\n",
    "\n"
   ]
  },
  {
   "cell_type": "markdown",
   "id": "58fd60df-b16e-49c3-9517-f79663b38d48",
   "metadata": {},
   "source": [
    "Ans"
   ]
  },
  {
   "cell_type": "markdown",
   "id": "8fa89d35-a3ef-40a3-860d-0d728d4ac516",
   "metadata": {},
   "source": [
    "In Python, variables are used to store data values in memory. A variable is like a container that holds a value, and you can refer to that value using the variable's name. Variables provide a way to keep track of data throughout the execution of a program and Decleration and Assignment values to variables in python is simple."
   ]
  },
  {
   "cell_type": "markdown",
   "id": "593731d0-b380-46b3-a1bd-e5866a7683e9",
   "metadata": {},
   "source": [
    "* Assignment and Declaration in one step :\n",
    "       \n",
    "       variables_name = value "
   ]
  },
  {
   "cell_type": "markdown",
   "id": "aa052647-6075-4f07-8130-123d0446c14c",
   "metadata": {},
   "source": [
    "Examples :-"
   ]
  },
  {
   "cell_type": "code",
   "execution_count": 6,
   "id": "b388eef9-955d-4d84-a509-b743d0362a1c",
   "metadata": {},
   "outputs": [],
   "source": [
    "# Here, the variable \"Name\" stores the string \"Saksham\"\n",
    "Name = \"Saksham\"\n",
    "# Here, the variable \"Age\" stores the integer 21\n",
    "Age = 21\n",
    "# Here, the variable \"Student\" stores the boolean value True \n",
    "Student = True\n",
    "# Here, the variable \"Marks\" stores the floating point number 86.54\n",
    "Marks = 86.54"
   ]
  },
  {
   "cell_type": "code",
   "execution_count": 7,
   "id": "d15b8d8e-a231-4660-a725-acca332e34c4",
   "metadata": {},
   "outputs": [
    {
     "data": {
      "text/plain": [
       "'Saksham'"
      ]
     },
     "execution_count": 7,
     "metadata": {},
     "output_type": "execute_result"
    }
   ],
   "source": [
    "Name"
   ]
  },
  {
   "cell_type": "markdown",
   "id": "93b26d55-c212-4f3e-9f4c-1337cf5fc795",
   "metadata": {},
   "source": [
    "Python automatically creates the variables Name, Age, Student, and Marks as you assign values to them. \n",
    "You can reassign values to variables at any point in the code:-"
   ]
  },
  {
   "cell_type": "markdown",
   "id": "d0218f60-f0b2-4596-9281-8b4f189c49c1",
   "metadata": {},
   "source": [
    "Example :-"
   ]
  },
  {
   "cell_type": "code",
   "execution_count": 8,
   "id": "7e6698bd-f3fe-4528-8bc4-0b754e216f79",
   "metadata": {},
   "outputs": [
    {
     "name": "stdout",
     "output_type": "stream",
     "text": [
      "Tanu\n",
      "20\n"
     ]
    }
   ],
   "source": [
    "#Here, we reassign a new value in \"Name\" variable \n",
    "Name = \"Tanu\" \n",
    "print(Name) \n",
    "        #then the output is Tanu\n",
    "#Here, we reassign a new value in \"Age\" variable\n",
    "Age = 20\n",
    "print(Age)\n",
    "        #then the output is 20 \n",
    "    ###New Value is Assigned in old varaibles."
   ]
  },
  {
   "cell_type": "markdown",
   "id": "baae8e05-ebf1-473f-9e99-bb245b08d6cf",
   "metadata": {},
   "source": [
    "Q3. How do you convert one data type to another in Python ?"
   ]
  },
  {
   "cell_type": "markdown",
   "id": "6fbd6649-7d53-4250-8296-03e41ea869b7",
   "metadata": {},
   "source": [
    "Ans"
   ]
  },
  {
   "cell_type": "markdown",
   "id": "8facc3d1-b82d-43a0-8448-2d1bacf44c60",
   "metadata": {},
   "source": [
    "In Python, you can convert one data type to another using a process called \"type casting.\" Python provides built-in functions to facilitate type casting for various data types."
   ]
  },
  {
   "cell_type": "markdown",
   "id": "60c88b35-b5c1-45d2-ab44-8d9a2d8dcac0",
   "metadata": {},
   "source": [
    "* int(): Converts a value to an integer data type.\n"
   ]
  },
  {
   "cell_type": "code",
   "execution_count": 9,
   "id": "5a3df67c-a403-4c63-98f6-79cb93b39c6c",
   "metadata": {},
   "outputs": [
    {
     "name": "stdout",
     "output_type": "stream",
     "text": [
      "488\n"
     ]
    }
   ],
   "source": [
    "num_str = \"488\"\n",
    "num_int = int(num_str)\n",
    "print(num_int)"
   ]
  },
  {
   "cell_type": "code",
   "execution_count": 10,
   "id": "c696b442-70f3-4fbf-988f-6c139457300f",
   "metadata": {},
   "outputs": [
    {
     "data": {
      "text/plain": [
       "int"
      ]
     },
     "execution_count": 10,
     "metadata": {},
     "output_type": "execute_result"
    }
   ],
   "source": [
    "type(num_int)"
   ]
  },
  {
   "cell_type": "markdown",
   "id": "b37890c2-f1c9-4600-b64e-629df0117ea3",
   "metadata": {},
   "source": [
    "* str(): Converts a value to a string data type."
   ]
  },
  {
   "cell_type": "code",
   "execution_count": 11,
   "id": "365b5be3-3d88-47a5-bcd1-4e7bce72827b",
   "metadata": {},
   "outputs": [
    {
     "name": "stdout",
     "output_type": "stream",
     "text": [
      "647\n"
     ]
    }
   ],
   "source": [
    "num_int = 647\n",
    "num_str = str(num_int)\n",
    "print(num_str)"
   ]
  },
  {
   "cell_type": "code",
   "execution_count": 12,
   "id": "4b8dba1b-c1e5-4f57-a2e9-9dbbb5d5eb4f",
   "metadata": {},
   "outputs": [
    {
     "data": {
      "text/plain": [
       "str"
      ]
     },
     "execution_count": 12,
     "metadata": {},
     "output_type": "execute_result"
    }
   ],
   "source": [
    "type(num_str)"
   ]
  },
  {
   "cell_type": "markdown",
   "id": "ce890256-7058-48e6-8fe2-5545f2d07c89",
   "metadata": {},
   "source": [
    "* bool(): Converts a value to a boolean data type."
   ]
  },
  {
   "cell_type": "code",
   "execution_count": 13,
   "id": "4edbe867-41b7-42c8-a229-c8f907221e25",
   "metadata": {},
   "outputs": [
    {
     "name": "stdout",
     "output_type": "stream",
     "text": [
      "True\n"
     ]
    }
   ],
   "source": [
    "\"\"\"Any non-zero numeric value or non-empty container (e.g., list, tuple, dictionary) will be converted to True, while 0,\n",
    "None, empty strings, and empty containers will be converted to False.\"\"\"\n",
    "num = 45\n",
    "is_positive = bool(num)\n",
    "print(is_positive)"
   ]
  },
  {
   "cell_type": "code",
   "execution_count": 14,
   "id": "236620fe-dabf-48be-ba33-65e0fd13d7f6",
   "metadata": {},
   "outputs": [
    {
     "data": {
      "text/plain": [
       "bool"
      ]
     },
     "execution_count": 14,
     "metadata": {},
     "output_type": "execute_result"
    }
   ],
   "source": [
    "type(is_positive)"
   ]
  },
  {
   "cell_type": "code",
   "execution_count": 15,
   "id": "0841e4f4-2272-4b36-9d2f-62b1754da6b2",
   "metadata": {},
   "outputs": [
    {
     "name": "stdout",
     "output_type": "stream",
     "text": [
      "False\n"
     ]
    }
   ],
   "source": [
    "empty_list = []\n",
    "is_list_empty = bool(empty_list)\n",
    "print(is_list_empty)"
   ]
  },
  {
   "cell_type": "code",
   "execution_count": 16,
   "id": "e6a4334f-68a6-49e7-abb7-41a56e9590e5",
   "metadata": {},
   "outputs": [
    {
     "data": {
      "text/plain": [
       "bool"
      ]
     },
     "execution_count": 16,
     "metadata": {},
     "output_type": "execute_result"
    }
   ],
   "source": [
    "type(is_list_empty)"
   ]
  },
  {
   "cell_type": "markdown",
   "id": "9c1da820-8081-437c-8566-fd9e2bf1db2b",
   "metadata": {},
   "source": [
    "* float(): Converts a value to a floating-point data type."
   ]
  },
  {
   "cell_type": "code",
   "execution_count": 17,
   "id": "aed61452-bb63-4c93-b92c-2391c656d1c5",
   "metadata": {},
   "outputs": [
    {
     "name": "stdout",
     "output_type": "stream",
     "text": [
      "437.0\n"
     ]
    }
   ],
   "source": [
    "num_int = 437\n",
    "num_float = float(num_int)\n",
    "print(num_float)"
   ]
  },
  {
   "cell_type": "code",
   "execution_count": 18,
   "id": "b43a6e3c-e47b-49b3-87bd-8c72cd1e10f1",
   "metadata": {},
   "outputs": [
    {
     "data": {
      "text/plain": [
       "float"
      ]
     },
     "execution_count": 18,
     "metadata": {},
     "output_type": "execute_result"
    }
   ],
   "source": [
    "type(num_float)"
   ]
  },
  {
   "cell_type": "markdown",
   "id": "edec2b91-474e-4d60-ac0c-70417d642647",
   "metadata": {},
   "source": [
    "* tuple(): Converts a tuple into list data type."
   ]
  },
  {
   "cell_type": "code",
   "execution_count": 19,
   "id": "f6bd0d73-9752-440c-ac8f-48098e9b8be4",
   "metadata": {},
   "outputs": [
    {
     "name": "stdout",
     "output_type": "stream",
     "text": [
      "[10, 54, 60, 87, 45]\n"
     ]
    }
   ],
   "source": [
    "number_tuple = (10,54,60,87,45)\n",
    "number_list = list(number_tuple)\n",
    "print(number_list)"
   ]
  },
  {
   "cell_type": "code",
   "execution_count": 20,
   "id": "85a47685-4594-4e60-a370-7cc303b2616e",
   "metadata": {},
   "outputs": [
    {
     "data": {
      "text/plain": [
       "list"
      ]
     },
     "execution_count": 20,
     "metadata": {},
     "output_type": "execute_result"
    }
   ],
   "source": [
    "type(number_list)"
   ]
  },
  {
   "cell_type": "markdown",
   "id": "f7f749b7-4b81-4646-9b26-eb37b799309c",
   "metadata": {},
   "source": [
    "* list(): Converts a list into Set data type."
   ]
  },
  {
   "cell_type": "code",
   "execution_count": 21,
   "id": "d38aca03-478b-4cb8-a41a-ad38f83efe82",
   "metadata": {},
   "outputs": [
    {
     "name": "stdout",
     "output_type": "stream",
     "text": [
      "{36, 10, 47, 52, 54}\n"
     ]
    }
   ],
   "source": [
    "number_list = [10,54,47,52,36]\n",
    "number_set = set(number_list)\n",
    "print(number_set)"
   ]
  },
  {
   "cell_type": "code",
   "execution_count": 22,
   "id": "07c24047-69c0-4b97-8796-6ab05232cf8c",
   "metadata": {},
   "outputs": [
    {
     "data": {
      "text/plain": [
       "set"
      ]
     },
     "execution_count": 22,
     "metadata": {},
     "output_type": "execute_result"
    }
   ],
   "source": [
    "type(number_set)"
   ]
  },
  {
   "cell_type": "markdown",
   "id": "13d43cca-c2c4-4902-ae52-4544741ae05c",
   "metadata": {},
   "source": [
    "* dict(): Convert a list of tuples to a dictionary."
   ]
  },
  {
   "cell_type": "code",
   "execution_count": 23,
   "id": "8375fa90-fa15-4159-ab0c-353e326f1a56",
   "metadata": {},
   "outputs": [
    {
     "name": "stdout",
     "output_type": "stream",
     "text": [
      "{'Mangoes': 25, 'Apple': 155, 'Banana': 55, 'Kiwi': 45}\n"
     ]
    }
   ],
   "source": [
    "items_price = [(\"Mangoes\",25),(\"Apple\",155),(\"Banana\",55),(\"Kiwi\",45)]\n",
    "items_dict = dict(items_price)\n",
    "print(items_dict)"
   ]
  },
  {
   "cell_type": "code",
   "execution_count": 24,
   "id": "a49c5895-d4bb-45e8-b698-cc1a79039ae8",
   "metadata": {},
   "outputs": [
    {
     "data": {
      "text/plain": [
       "dict"
      ]
     },
     "execution_count": 24,
     "metadata": {},
     "output_type": "execute_result"
    }
   ],
   "source": [
    "type(items_dict)"
   ]
  },
  {
   "cell_type": "markdown",
   "id": "93d22b19-ed1c-4c92-972d-8c7309f84800",
   "metadata": {},
   "source": [
    "Q4. How do you write and execute a Python script from the command line ?\n",
    "\n"
   ]
  },
  {
   "cell_type": "markdown",
   "id": "2c6f2bec-f57f-49ff-a111-04dff4a77d4a",
   "metadata": {},
   "source": [
    "Ans"
   ]
  },
  {
   "cell_type": "markdown",
   "id": "614b5870-8fb8-492a-be11-9461fa9e748d",
   "metadata": {},
   "source": [
    "To write and execute a Python script from the command line."
   ]
  },
  {
   "cell_type": "markdown",
   "id": "fe757c17-68db-44a9-9105-91545ef5f61d",
   "metadata": {},
   "source": [
    " * First open a text editor (e.g., Notepad, Visual Studio Code,Jupyter notebook) and write your Python code. \n",
    "* Save the file with a .py extension, which indicates that it's a Python script. \n",
    "  \n",
    "  * For example, you can create a file named myscript.py.\n",
    "                    # myscript.py\n",
    "print(\"Hello, Saksham!!\")\n",
    "\n",
    "* Open the Command Line / Terminal: To execute the Python script, you need to open the command line or terminal on your operating system. \n",
    "   *The process varies depending on the operating system:\n",
    "\n",
    "   * On Windows: Press Win + R, type cmd, and press Enter.\n",
    "  \n",
    "* Navigate to the script's directory: Use the cd command (change directory) to navigate to the directory where your Python script is located. \n",
    "   * For example, if your script is in the Documents folder, \n",
    "\n",
    "type : cd Documents in bash shell\n"
   ]
  },
  {
   "cell_type": "markdown",
   "id": "966329de-bc4a-497f-a0a1-809d95c75fe2",
   "metadata": {},
   "source": [
    "* Execute the Python script: Once you are in the correct directory, use the python command followed by the script's filename to execute the Python script.\n",
    "\n",
    "For example :  python myscript.py \n"
   ]
  },
  {
   "cell_type": "markdown",
   "id": "11036213-ffb8-4f3b-9ca2-c2cf36937bc8",
   "metadata": {},
   "source": [
    "* Observe the output : After executing the command, the Python script will run, and any output generated by the script will be displayed in the command line or terminal. \n",
    "  In this example, you should see the output:\n",
    "                                        \n",
    "                                        \n",
    "                                         Hello , Saksham!!\n",
    "                                        \n",
    "  * That's it! You have successfully written and executed a Python script from the command line. \n"
   ]
  },
  {
   "cell_type": "markdown",
   "id": "d4f87a08-397c-4ba1-b527-0e6dc30b51f5",
   "metadata": {},
   "source": [
    "Q5. Given a list my_list = [1, 2, 3, 4, 5], write the code to slice the list and obtain the sub-list [2, 3]."
   ]
  },
  {
   "cell_type": "markdown",
   "id": "95869a02-bbfc-4e12-a99f-bbbcc69257b3",
   "metadata": {},
   "source": [
    "Ans"
   ]
  },
  {
   "cell_type": "code",
   "execution_count": 25,
   "id": "511d3797-315a-416c-8004-2c70411c4bae",
   "metadata": {},
   "outputs": [
    {
     "name": "stdout",
     "output_type": "stream",
     "text": [
      "[2, 3]\n"
     ]
    }
   ],
   "source": [
    "#my_list is the given list : -\n",
    "my_list = [1, 2, 3, 4, 5]\n",
    "\n",
    "# Using slicing to get the sub-list [2, 3]\n",
    "sub_list = my_list[1:3]\n",
    "\n",
    "print(sub_list)\n"
   ]
  },
  {
   "cell_type": "markdown",
   "id": "87518155-f1ae-4420-ac54-3ead3fa70902",
   "metadata": {},
   "source": [
    "Q6. What is a complex number in mathematics, and how is it represented in Python ?"
   ]
  },
  {
   "cell_type": "markdown",
   "id": "3eff137b-7e07-4344-9566-9f04b13952b2",
   "metadata": {},
   "source": [
    "Ans"
   ]
  },
  {
   "cell_type": "markdown",
   "id": "b431fe82-1e4c-41c5-a3b2-34da7cfd7831",
   "metadata": {},
   "source": [
    "In mathematics, a complex number is a number that comprises both a real part and an imaginary part. It is written in the form a + bj, where a is the real part, b is the imaginary part, and j is the imaginary unit. The imaginary unit j is defined as the square root of -1.\n",
    "\n",
    "In the complex number a + bj, the real part a represents the contribution along the real axis, and the imaginary part bj represents the contribution along the imaginary axis."
   ]
  },
  {
   "cell_type": "markdown",
   "id": "36748a80-61ea-4ca9-baa3-cbe991d6a7cf",
   "metadata": {},
   "source": [
    "For Example : -\n",
    "\n",
    "* 3 + 4j is a complex number with a real part of 3 and an imaginary part of 4.\n",
    "* -2j is a pure imaginary number with a real part of 0 and an imaginary part of -2.\n"
   ]
  },
  {
   "cell_type": "markdown",
   "id": "b60e0bca-2a7e-4171-b852-46ccb01d7453",
   "metadata": {},
   "source": [
    "In Python, complex numbers are natively supported as a data type. To represent a complex number in Python, you use the j suffix to denote the imaginary part."
   ]
  },
  {
   "cell_type": "markdown",
   "id": "3d1f7cd2-198f-435c-b94f-4b1dde14cc65",
   "metadata": {},
   "source": [
    "For Example :-"
   ]
  },
  {
   "cell_type": "code",
   "execution_count": 26,
   "id": "ede15033-536c-46fc-b716-fb5e1df50f26",
   "metadata": {},
   "outputs": [
    {
     "name": "stdout",
     "output_type": "stream",
     "text": [
      "(6+8j)\n"
     ]
    }
   ],
   "source": [
    "# Representing a complex number in Python\n",
    "complex_num = 6 + 8j\n",
    "print(complex_num)\n",
    "#Final Output is (6+8j)"
   ]
  },
  {
   "cell_type": "markdown",
   "id": "3d4bb6cf-3434-4bc7-bef9-2f54f135e134",
   "metadata": {},
   "source": [
    "Python also provides built-in functions like real, imag, conjugate, and abs to work with complex numbers :"
   ]
  },
  {
   "cell_type": "code",
   "execution_count": 27,
   "id": "bbd1183b-75ef-499b-be6f-6ef9cd71f2e3",
   "metadata": {},
   "outputs": [
    {
     "data": {
      "text/plain": [
       "(6+8j)"
      ]
     },
     "execution_count": 27,
     "metadata": {},
     "output_type": "execute_result"
    }
   ],
   "source": [
    "complex_num"
   ]
  },
  {
   "cell_type": "code",
   "execution_count": 28,
   "id": "68687e97-9668-4dd9-894b-440b0405f591",
   "metadata": {},
   "outputs": [
    {
     "data": {
      "text/plain": [
       "6.0"
      ]
     },
     "execution_count": 28,
     "metadata": {},
     "output_type": "execute_result"
    }
   ],
   "source": [
    "complex_num.real"
   ]
  },
  {
   "cell_type": "code",
   "execution_count": 29,
   "id": "45599cba-b3e0-4b47-ac66-c1075867c326",
   "metadata": {},
   "outputs": [
    {
     "data": {
      "text/plain": [
       "8.0"
      ]
     },
     "execution_count": 29,
     "metadata": {},
     "output_type": "execute_result"
    }
   ],
   "source": [
    "complex_num.imag"
   ]
  },
  {
   "cell_type": "code",
   "execution_count": 30,
   "id": "877a2a12-cb45-4e5e-9f24-838dad52016a",
   "metadata": {},
   "outputs": [
    {
     "data": {
      "text/plain": [
       "(6-8j)"
      ]
     },
     "execution_count": 30,
     "metadata": {},
     "output_type": "execute_result"
    }
   ],
   "source": [
    "complex_num.conjugate()"
   ]
  },
  {
   "cell_type": "markdown",
   "id": "923330af-f8d7-490d-9ef6-bb58cc1ec85c",
   "metadata": {},
   "source": [
    "Q7. What is the correct way to declare a variable named age and assign the value 25 to it ?"
   ]
  },
  {
   "cell_type": "markdown",
   "id": "29398efb-771c-47cf-a809-69d6fa8c8507",
   "metadata": {},
   "source": [
    "Ans"
   ]
  },
  {
   "cell_type": "code",
   "execution_count": 31,
   "id": "0406456b-dc5d-47d2-9053-2c408fa58ec7",
   "metadata": {},
   "outputs": [
    {
     "name": "stdout",
     "output_type": "stream",
     "text": [
      "The age is: 25\n"
     ]
    }
   ],
   "source": [
    "age = 25\n",
    "# You can use the variable \"age\" in your code\n",
    "print(\"The age is:\", age)  \n",
    "\n",
    "# Output: The age is: 25"
   ]
  },
  {
   "cell_type": "markdown",
   "id": "3cde8a73-f96e-4b56-8b5d-8fdc33365d22",
   "metadata": {},
   "source": [
    "Q8. Declare a variable named price and assign the value 9.99 to it. What data type does this variable\n",
    "belong to ?"
   ]
  },
  {
   "cell_type": "markdown",
   "id": "2af845c8-8fc3-4a5a-83f8-87448026b67c",
   "metadata": {},
   "source": [
    "To declare a variable named price and assign the value 9.99 to it in Python written like this : -"
   ]
  },
  {
   "cell_type": "code",
   "execution_count": 32,
   "id": "6ef0bc8d-f9a5-42c2-92fa-0cc1e8ee3fa7",
   "metadata": {},
   "outputs": [],
   "source": [
    "price = 9.99"
   ]
  },
  {
   "cell_type": "markdown",
   "id": "97c31463-7390-42f7-8ae3-b7a6fe6f70e8",
   "metadata": {},
   "source": [
    "After executing this line, the variable price will be created and assigned the value 9.99. The data type of the variable price in this case is a floating-point number (float). This is because 9.99 contains a decimal point, making it a floating-point literal."
   ]
  },
  {
   "cell_type": "markdown",
   "id": "5475cd26-8094-456c-a4ae-c18108e2141a",
   "metadata": {},
   "source": [
    "You can verify the data type of the price variable using the type() function:"
   ]
  },
  {
   "cell_type": "code",
   "execution_count": 33,
   "id": "b1711721-1905-4299-8270-5bbb3c896d0c",
   "metadata": {},
   "outputs": [
    {
     "name": "stdout",
     "output_type": "stream",
     "text": [
      "<class 'float'>\n"
     ]
    }
   ],
   "source": [
    "print(type(price))"
   ]
  },
  {
   "cell_type": "markdown",
   "id": "3a37a5fd-dbb4-41ef-90df-2d16be52ced1",
   "metadata": {},
   "source": [
    "Here,the output will indicate that the variable price belongs to the float data type."
   ]
  },
  {
   "cell_type": "markdown",
   "id": "185d7da1-0519-4a7b-b23c-bdb82d5a7e0d",
   "metadata": {},
   "source": [
    "Q9. Create a variable named name and assign your full name to it as a string. How would you print the\n",
    "value of this variable ?"
   ]
  },
  {
   "cell_type": "markdown",
   "id": "5c4cd753-4cf8-45ba-a158-1a45127d0e47",
   "metadata": {},
   "source": [
    "Ans"
   ]
  },
  {
   "cell_type": "code",
   "execution_count": 34,
   "id": "cb3f84c4-a0d8-4935-a36a-cebfebaa6bec",
   "metadata": {},
   "outputs": [
    {
     "name": "stdout",
     "output_type": "stream",
     "text": [
      "Saksham Jain\n"
     ]
    }
   ],
   "source": [
    "name = \"Saksham Jain\"\n",
    "print(name)"
   ]
  },
  {
   "cell_type": "markdown",
   "id": "5b9cad15-ea35-4d9a-8c0e-fdf7eecc2c49",
   "metadata": {},
   "source": [
    "Q10. Given the string \"Hello, World!\", extract the substring \"World\"."
   ]
  },
  {
   "cell_type": "markdown",
   "id": "ec6d6afa-42a2-494c-8e8b-c4e0b3801b0c",
   "metadata": {},
   "source": [
    "Ans "
   ]
  },
  {
   "cell_type": "code",
   "execution_count": 35,
   "id": "f83fa208-8ea5-4dca-8b7b-50b69c077275",
   "metadata": {},
   "outputs": [
    {
     "name": "stdout",
     "output_type": "stream",
     "text": [
      "World\n"
     ]
    }
   ],
   "source": [
    "# Given string will be \n",
    "string = \"Hello, World!\"\n",
    "\n",
    "# Extracting the substring \"World\" using slicing\n",
    "substring = string[7:12]\n",
    "\n",
    "print(substring) "
   ]
  },
  {
   "cell_type": "markdown",
   "id": "7afe54eb-9ca7-4b1b-82f9-ae18245c27f5",
   "metadata": {},
   "source": [
    "Here , the output is substring will be World."
   ]
  },
  {
   "cell_type": "markdown",
   "id": "e3334e19-11f3-4825-a7fc-73e1b4eccb66",
   "metadata": {},
   "source": [
    "Q11. Create a variable named \"is_student\" and assign it a boolean value indicating whether you are\n",
    "currently a student or not."
   ]
  },
  {
   "cell_type": "code",
   "execution_count": 36,
   "id": "8cc04a95-1912-486d-b861-68b8adbdf0bf",
   "metadata": {},
   "outputs": [],
   "source": [
    "is_student = True"
   ]
  },
  {
   "cell_type": "markdown",
   "id": "8acfccd5-1a30-4638-85d9-cc476489e578",
   "metadata": {},
   "source": [
    "* True with False depending on your status. If you are currently a student, set the variable to True; otherwise, set it to False."
   ]
  }
 ],
 "metadata": {
  "kernelspec": {
   "display_name": "Python 3 (ipykernel)",
   "language": "python",
   "name": "python3"
  },
  "language_info": {
   "codemirror_mode": {
    "name": "ipython",
    "version": 3
   },
   "file_extension": ".py",
   "mimetype": "text/x-python",
   "name": "python",
   "nbconvert_exporter": "python",
   "pygments_lexer": "ipython3",
   "version": "3.10.8"
  }
 },
 "nbformat": 4,
 "nbformat_minor": 5
}
